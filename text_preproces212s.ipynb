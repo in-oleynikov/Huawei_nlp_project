{
 "cells": [
  {
   "cell_type": "code",
   "execution_count": 2,
   "metadata": {},
   "outputs": [],
   "source": [
    "import re"
   ]
  },
  {
   "cell_type": "code",
   "execution_count": 5,
   "metadata": {},
   "outputs": [],
   "source": [
    "# Препроцессинг текста с лемматизацией и c удаления стопслов\n",
    "def preprocess(corpus): \n",
    "    new_corpus= []\n",
    "    for sentence in corpus:\n",
    "        #remove http links\n",
    "        sentence = re.sub(r'\\b(\\w+:|)\\/\\/.+?( |\\Z)','', sentence)\n",
    "        \n",
    "        #remove retwits and user names\n",
    "        sentence = re.sub(r'@.+\\b','', sentence)\n",
    "        \n",
    "        # find alphabetic symbols and make lowercase\n",
    "        sentence = ' '.join(re.findall('[А-Яа-яA-Za-z]+', sentence.lower()))\n",
    "       \n",
    "        # find and replace happy emoticons    \n",
    "        sentence = re.sub('(?::|;|=)(?:-)?(?:\\){1,4}|\\{1,4}|D|P)' , 'happy_emotion' , sentence)\n",
    "        sentence = re.sub('\\){1,5}', 'happy_emotion',sentence)\n",
    "               \n",
    "        # find and replace sad emoticons\n",
    "        sentence = re.sub('(?::|;|=)(?:-)?(?:\\{1,4}|\\({1,4}|D|P)' , 'sad_emotion' , sentence)\n",
    "        sentence = re.sub('\\({1,5}', 'sad_emotion',sentence)\n",
    "        \n",
    "        # find question and exclamation !!!! ???\n",
    "        sentence = re.sub('\\!{2,5}|\\?{2,5}', 'question_exclamation' , sentence) \n",
    "        new_corpus.append(sentence)\n",
    "        \n",
    "    return new_corpus"
   ]
  },
  {
   "cell_type": "code",
   "execution_count": null,
   "metadata": {},
   "outputs": [],
   "source": []
  }
 ],
 "metadata": {
  "kernelspec": {
   "display_name": "Python 3",
   "language": "python",
   "name": "python3"
  },
  "language_info": {
   "codemirror_mode": {
    "name": "ipython",
    "version": 3
   },
   "file_extension": ".py",
   "mimetype": "text/x-python",
   "name": "python",
   "nbconvert_exporter": "python",
   "pygments_lexer": "ipython3",
   "version": "3.8.3"
  }
 },
 "nbformat": 4,
 "nbformat_minor": 4
}
