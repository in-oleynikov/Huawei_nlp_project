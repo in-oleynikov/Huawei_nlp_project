{
 "cells": [
  {
   "cell_type": "code",
   "execution_count": 1,
   "metadata": {},
   "outputs": [],
   "source": [
    "import collections"
   ]
  },
  {
   "cell_type": "code",
   "execution_count": 4,
   "metadata": {},
   "outputs": [],
   "source": [
    "from collections import namedtuple\n",
    "fruit = namedtuple('fruit','number variety color')\n",
    "guava = fruit(number=2,variety='HoneyCrisp',color='green')\n",
    "apple = fruit(number=5,variety='Granny Smith',color='red')"
   ]
  },
  {
   "cell_type": "code",
   "execution_count": 6,
   "metadata": {},
   "outputs": [
    {
     "data": {
      "text/plain": [
       "fruit(number=2, variety='HoneyCrisp', color='green')"
      ]
     },
     "execution_count": 6,
     "metadata": {},
     "output_type": "execute_result"
    }
   ],
   "source": [
    "guava"
   ]
  },
  {
   "cell_type": "code",
   "execution_count": 8,
   "metadata": {},
   "outputs": [],
   "source": [
    "d = collections.OrderedDict()"
   ]
  },
  {
   "cell_type": "code",
   "execution_count": 9,
   "metadata": {},
   "outputs": [],
   "source": [
    "d[1]= 'rename'"
   ]
  },
  {
   "cell_type": "code",
   "execution_count": 10,
   "metadata": {},
   "outputs": [
    {
     "data": {
      "text/plain": [
       "OrderedDict([(1, 'rename')])"
      ]
     },
     "execution_count": 10,
     "metadata": {},
     "output_type": "execute_result"
    }
   ],
   "source": [
    "d"
   ]
  },
  {
   "cell_type": "code",
   "execution_count": 11,
   "metadata": {},
   "outputs": [],
   "source": [
    "d[10]= 'man'"
   ]
  },
  {
   "cell_type": "code",
   "execution_count": 12,
   "metadata": {},
   "outputs": [],
   "source": [
    "d[2] = 'girl'"
   ]
  },
  {
   "cell_type": "code",
   "execution_count": 17,
   "metadata": {},
   "outputs": [
    {
     "ename": "ModuleNotFoundError",
     "evalue": "No module named 'Threads'",
     "output_type": "error",
     "traceback": [
      "\u001b[1;31m---------------------------------------------------------------------------\u001b[0m",
      "\u001b[1;31mModuleNotFoundError\u001b[0m                       Traceback (most recent call last)",
      "\u001b[1;32m<ipython-input-17-9d46efe4ff62>\u001b[0m in \u001b[0;36m<module>\u001b[1;34m\u001b[0m\n\u001b[1;32m----> 1\u001b[1;33m \u001b[1;32mimport\u001b[0m \u001b[0mThreads\u001b[0m\u001b[1;33m\u001b[0m\u001b[1;33m\u001b[0m\u001b[0m\n\u001b[0m",
      "\u001b[1;31mModuleNotFoundError\u001b[0m: No module named 'Threads'"
     ]
    }
   ],
   "source": [
    "import Threads"
   ]
  },
  {
   "cell_type": "code",
   "execution_count": 18,
   "metadata": {},
   "outputs": [
    {
     "name": "stdout",
     "output_type": "stream",
     "text": [
      "Collecting airflow\n",
      "  Downloading airflow-0.6.tar.gz (1.2 kB)\n",
      "Note: you may need to restart the kernel to use updated packages.\n"
     ]
    },
    {
     "name": "stderr",
     "output_type": "stream",
     "text": [
      "    ERROR: Command errored out with exit status 1:\n",
      "     command: 'C:\\Users\\ivan\\anaconda3\\python.exe' -c 'import sys, setuptools, tokenize; sys.argv[0] = '\"'\"'C:\\\\Users\\\\ivan\\\\AppData\\\\Local\\\\Temp\\\\pip-install-gax6gzk5\\\\airflow\\\\setup.py'\"'\"'; __file__='\"'\"'C:\\\\Users\\\\ivan\\\\AppData\\\\Local\\\\Temp\\\\pip-install-gax6gzk5\\\\airflow\\\\setup.py'\"'\"';f=getattr(tokenize, '\"'\"'open'\"'\"', open)(__file__);code=f.read().replace('\"'\"'\\r\\n'\"'\"', '\"'\"'\\n'\"'\"');f.close();exec(compile(code, __file__, '\"'\"'exec'\"'\"'))' egg_info --egg-base 'C:\\Users\\ivan\\AppData\\Local\\Temp\\pip-pip-egg-info-gi8rdzm1'\n",
      "         cwd: C:\\Users\\ivan\\AppData\\Local\\Temp\\pip-install-gax6gzk5\\airflow\\\n",
      "    Complete output (13 lines):\n",
      "    running egg_info\n",
      "    creating C:\\Users\\ivan\\AppData\\Local\\Temp\\pip-pip-egg-info-gi8rdzm1\\airflow.egg-info\n",
      "    writing C:\\Users\\ivan\\AppData\\Local\\Temp\\pip-pip-egg-info-gi8rdzm1\\airflow.egg-info\\PKG-INFO\n",
      "    writing dependency_links to C:\\Users\\ivan\\AppData\\Local\\Temp\\pip-pip-egg-info-gi8rdzm1\\airflow.egg-info\\dependency_links.txt\n",
      "    writing top-level names to C:\\Users\\ivan\\AppData\\Local\\Temp\\pip-pip-egg-info-gi8rdzm1\\airflow.egg-info\\top_level.txt\n",
      "    writing manifest file 'C:\\Users\\ivan\\AppData\\Local\\Temp\\pip-pip-egg-info-gi8rdzm1\\airflow.egg-info\\SOURCES.txt'\n",
      "    reading manifest file 'C:\\Users\\ivan\\AppData\\Local\\Temp\\pip-pip-egg-info-gi8rdzm1\\airflow.egg-info\\SOURCES.txt'\n",
      "    writing manifest file 'C:\\Users\\ivan\\AppData\\Local\\Temp\\pip-pip-egg-info-gi8rdzm1\\airflow.egg-info\\SOURCES.txt'\n",
      "    Traceback (most recent call last):\n",
      "      File \"<string>\", line 1, in <module>\n",
      "      File \"C:\\Users\\ivan\\AppData\\Local\\Temp\\pip-install-gax6gzk5\\airflow\\setup.py\", line 32, in <module>\n",
      "        raise RuntimeError('Please install package apache-airflow instead of airflow')\n",
      "    RuntimeError: Please install package apache-airflow instead of airflow\n",
      "    ----------------------------------------\n",
      "ERROR: Command errored out with exit status 1: python setup.py egg_info Check the logs for full command output.\n",
      "WARNING: You are using pip version 20.2.3; however, version 21.0 is available.\n",
      "You should consider upgrading via the 'C:\\Users\\ivan\\anaconda3\\python.exe -m pip install --upgrade pip' command.\n"
     ]
    }
   ],
   "source": [
    "pip install airflow"
   ]
  },
  {
   "cell_type": "code",
   "execution_count": null,
   "metadata": {},
   "outputs": [],
   "source": []
  }
 ],
 "metadata": {
  "kernelspec": {
   "display_name": "Python 3",
   "language": "python",
   "name": "python3"
  },
  "language_info": {
   "codemirror_mode": {
    "name": "ipython",
    "version": 3
   },
   "file_extension": ".py",
   "mimetype": "text/x-python",
   "name": "python",
   "nbconvert_exporter": "python",
   "pygments_lexer": "ipython3",
   "version": "3.8.3"
  }
 },
 "nbformat": 4,
 "nbformat_minor": 4
}
